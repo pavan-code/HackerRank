{
  "nbformat": 4,
  "nbformat_minor": 0,
  "metadata": {
    "colab": {
      "name": "Untitled0.ipynb",
      "provenance": [],
      "collapsed_sections": [],
      "authorship_tag": "ABX9TyP2xzEhTA1Abc7hsX3AsC+6",
      "include_colab_link": true
    },
    "kernelspec": {
      "name": "python3",
      "display_name": "Python 3"
    }
  },
  "cells": [
    {
      "cell_type": "markdown",
      "metadata": {
        "id": "view-in-github",
        "colab_type": "text"
      },
      "source": [
        "<a href=\"https://colab.research.google.com/github/pavan-code/HackerRank/blob/master/utopian%20tree.ipynb\" target=\"_parent\"><img src=\"https://colab.research.google.com/assets/colab-badge.svg\" alt=\"Open In Colab\"/></a>"
      ]
    },
    {
      "cell_type": "code",
      "metadata": {
        "id": "HV9eUxQ9Weh6",
        "colab_type": "code",
        "colab": {}
      },
      "source": [
        "def calc_height(h,n):\n",
        "        for i in range(1,n+1):\n",
        "            if i%2!=0:\n",
        "                h*=2\n",
        "            else:\n",
        "                h+=1\n",
        "        return h\n",
        "test_cases = int(input())\n",
        "for each_case in range(test_cases):\n",
        "    cycles = int(input())\n",
        "    print(calc_height(1,cycles))"
      ],
      "execution_count": 0,
      "outputs": []
    }
  ]
}